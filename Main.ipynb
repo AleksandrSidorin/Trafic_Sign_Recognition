{
 "cells": [
  {
   "cell_type": "code",
   "execution_count": 1,
   "metadata": {},
   "outputs": [],
   "source": [
    "import matplotlib.pyplot as plt\n",
    "import csv\n",
    "import numpy as np\n",
    "from tqdm import tqdm\n",
    "from datetime import datetime\n",
    "import random\n",
    "import cv2"
   ]
  },
  {
   "cell_type": "markdown",
   "metadata": {},
   "source": [
    "## Dowload dataset Function"
   ]
  },
  {
   "cell_type": "code",
   "execution_count": 2,
   "metadata": {},
   "outputs": [],
   "source": [
    "def readTrafficSigns(rootpath):\n",
    "    \n",
    "    images = [] # Images\n",
    "    labels = [] # Corresponding labels\n",
    "    \n",
    "    # Loop over all 43 classes\n",
    "    for c in tqdm(range(0, 43)):\n",
    "        prefix = rootpath + '/' + format(c, '05d') + '/' # subdirectory for class \n",
    "        gtFile = open(prefix + 'GT-' + format(c, '05d') + '.csv') # annotations file\n",
    "        gtReader = csv.reader(gtFile, delimiter = ';') # csv parser for annotations filegt\n",
    "        next(gtReader) # skip header\n",
    "    \n",
    "        # Loop over all images in current annotations file\n",
    "        for row in gtReader:\n",
    "            images.append(plt.imread(prefix + row[0])) # filename\n",
    "            labels.append(row[7]) # label\n",
    "        gtFile.close()\n",
    "    return images, labels"
   ]
  },
  {
   "cell_type": "code",
   "execution_count": 3,
   "metadata": {},
   "outputs": [
    {
     "name": "stderr",
     "output_type": "stream",
     "text": [
      "100%|██████████| 43/43 [00:35<00:00,  2.32it/s]\n"
     ]
    }
   ],
   "source": [
    "trainImages, trainLabels = readTrafficSigns('GTSRB-2/Final_Training/Images')"
   ]
  },
  {
   "cell_type": "markdown",
   "metadata": {},
   "source": [
    "## Dowload Training dataset"
   ]
  },
  {
   "cell_type": "code",
   "execution_count": 4,
   "metadata": {},
   "outputs": [
    {
     "name": "stderr",
     "output_type": "stream",
     "text": [
      "12630it [00:00, 556836.25it/s]\n"
     ]
    }
   ],
   "source": [
    "def readTrafficSignsTestLabels(file_labels):\n",
    "    Test_labels = []\n",
    "    \n",
    "    gtFile = open(file_labels) \n",
    "    gtReader = csv.reader(gtFile, delimiter = ';')\n",
    "    next(gtReader)\n",
    "    \n",
    "    for row in tqdm(gtReader):\n",
    "        Test_labels.append(row[7])\n",
    "        \n",
    "    return Test_labels\n",
    "Test_Labels = readTrafficSignsTestLabels(\"GTSRB/Final_Test/Images/GT-final_test.csv\")"
   ]
  },
  {
   "cell_type": "code",
   "execution_count": 5,
   "metadata": {},
   "outputs": [
    {
     "name": "stderr",
     "output_type": "stream",
     "text": [
      "100%|██████████| 12630/12630 [00:12<00:00, 1009.72it/s]\n"
     ]
    }
   ],
   "source": [
    "def readTrafficSignsTestImages(Folder_Images):\n",
    "    Test_images = []\n",
    "    \n",
    "    for c in tqdm(range(0, 12630)):\n",
    "        preficx = Folder_Images + '/' + format(c, '05d') + '.ppm'\n",
    "        \n",
    "        Test_images.append(plt.imread(preficx))\n",
    "    \n",
    "    return Test_images\n",
    "Test_Images = readTrafficSignsTestImages(\"/GTSRB/Final_Test/Images\")"
   ]
  },
  {
   "cell_type": "markdown",
   "metadata": {},
   "source": [
    "## Resize all Images to the same size X X"
   ]
  },
  {
   "cell_type": "code",
   "execution_count": 6,
   "metadata": {},
   "outputs": [
    {
     "name": "stderr",
     "output_type": "stream",
     "text": [
      "100%|██████████| 39210/39210 [00:00<00:00, 71095.09it/s]\n"
     ]
    }
   ],
   "source": [
    "trainImages = np.asarray(trainImages)\n",
    "for i in tqdm(range(len(trainImages))):\n",
    "    trainImages[i] = cv2.resize(trainImages[i], (30, 30))"
   ]
  },
  {
   "cell_type": "code",
   "execution_count": 7,
   "metadata": {},
   "outputs": [
    {
     "name": "stderr",
     "output_type": "stream",
     "text": [
      "100%|██████████| 12630/12630 [00:00<00:00, 70117.23it/s]\n"
     ]
    }
   ],
   "source": [
    "Test_Images = np.asarray(Test_Images)\n",
    "for i in tqdm(range(len(Test_Images))):\n",
    "    Test_Images[i] = cv2.resize(Test_Images[i], (30, 30))"
   ]
  },
  {
   "cell_type": "markdown",
   "metadata": {},
   "source": [
    "## Split the dataset"
   ]
  },
  {
   "cell_type": "code",
   "execution_count": 8,
   "metadata": {},
   "outputs": [
    {
     "name": "stderr",
     "output_type": "stream",
     "text": [
      "100%|██████████| 39210/39210 [00:00<00:00, 1074387.61it/s]\n"
     ]
    }
   ],
   "source": [
    "track_co = np.zeros(43)\n",
    "number = 1\n",
    "classs = int(0)\n",
    "\n",
    "for i in tqdm(range(0, len(trainLabels))):\n",
    "    if trainLabels[i] != classs:\n",
    "        classs = int(trainLabels[i]) \n",
    "    \n",
    "    number += int(1)\n",
    "    if(number == 30):\n",
    "        track_co[classs] += 1\n",
    "        number = int(0)"
   ]
  },
  {
   "cell_type": "markdown",
   "metadata": {},
   "source": [
    "## Shuffle"
   ]
  },
  {
   "cell_type": "code",
   "execution_count": 9,
   "metadata": {},
   "outputs": [
    {
     "name": "stderr",
     "output_type": "stream",
     "text": [
      "100%|██████████| 43/43 [00:01<00:00, 28.36it/s]\n"
     ]
    }
   ],
   "source": [
    "X_train = [] \n",
    "y_train = [] \n",
    "\n",
    "X_validation = [] \n",
    "y_validation = [] \n",
    "\n",
    "p = 0\n",
    "\n",
    "for c in tqdm(range(0, len(track_co))):\n",
    "    \n",
    "    \n",
    "    sz = int(track_co[c])\n",
    "    a = np.zeros(sz)\n",
    "    \n",
    "    for i in range(0, sz):\n",
    "        a[i] = i + 1\n",
    "    np.random.shuffle(a)\n",
    "    num_tracks_train = int(len(a) * 0.8) + (len(a) % 10 != 0)\n",
    "    train_tracks = a[:num_tracks_train]\n",
    "    test_tracks = a[num_tracks_train:]\n",
    "    \n",
    "    index = 0\n",
    "    track = 1\n",
    "    \n",
    "    for i in range(int(p), int(p + 30 * track_co[c])):\n",
    "        index +=1\n",
    "        if np.isin(track, train_tracks):\n",
    "            X_train.append(trainImages[i])\n",
    "            y_train.append(c)\n",
    "        else:\n",
    "            X_validation.append(trainImages[i])\n",
    "            y_validation.append(c)\n",
    "        if index == 30:\n",
    "            track += 1\n",
    "            index = 0\n",
    "    p += track_co[c] * 30 "
   ]
  },
  {
   "cell_type": "markdown",
   "metadata": {},
   "source": [
    "## Find class frequencies in the resulting training set"
   ]
  },
  {
   "cell_type": "code",
   "execution_count": 10,
   "metadata": {
    "scrolled": false
   },
   "outputs": [
    {
     "data": {
      "image/png": "[encoded data removed]",
      "text/plain": [
       "<Figure size 504x288 with 1 Axes>"
      ]
     },
     "metadata": {
      "needs_background": "light"
     },
     "output_type": "display_data"
    }
   ],
   "source": [
    "import matplotlib.pyplot as plt\n",
    "\n",
    "plt.figure(figsize = (7, 4))\n",
    "counts, something, bins = plt.hist(y_train, bins = 43)\n",
    "plt.title(\"Friquency\")\n",
    "plt.xlabel('Ckass')\n",
    "plt.ylabel('Number of Samples')\n",
    "plt.show()\n",
    "c = counts[2]"
   ]
  },
  {
   "cell_type": "markdown",
   "metadata": {},
   "source": [
    "## Now we need to increase the number of images"
   ]
  },
  {
   "cell_type": "markdown",
   "metadata": {},
   "source": [
    "## Function for creating noise Images"
   ]
  },
  {
   "cell_type": "code",
   "execution_count": 11,
   "metadata": {},
   "outputs": [],
   "source": [
    "import scipy.ndimage as ndimage\n",
    "\n",
    "def create_images(image, count):\n",
    "    new_images = []\n",
    "    for i in range(0, 5):\n",
    "        new_images.append(ndimage.rotate(image, random.randint(-10,10)))\n",
    "    for j in range(5, 10):\n",
    "        new_images.append(ndimage.gaussian_filter(image, 1))\n",
    "    return new_images"
   ]
  },
  {
   "cell_type": "code",
   "execution_count": 12,
   "metadata": {},
   "outputs": [],
   "source": [
    "def create_noise_rotation_imse(Im):\n",
    "    new_im = Im.copy()\n",
    "    new_lab = y_train.copy()\n",
    "    index = 0\n",
    "    \n",
    "    for i in tqdm(range(0, 43)):\n",
    "        N = c - counts[i]\n",
    "        N = np.intc(N)\n",
    "        prev_index = int(index)\n",
    "        j = 0\n",
    "        \n",
    "        while(j < N):\n",
    "            n = create_images(new_im[index], 10)\n",
    "            for im in n:\n",
    "                #np.append(new_im, im)\n",
    "                new_im.append(im)\n",
    "                new_lab.append(i)\n",
    "            j += 10\n",
    "            index += 1\n",
    "        index = prev_index + int(counts[i])\n",
    "    return new_im, new_lab"
   ]
  },
  {
   "cell_type": "code",
   "execution_count": 13,
   "metadata": {},
   "outputs": [
    {
     "name": "stderr",
     "output_type": "stream",
     "text": [
      "100%|██████████| 43/43 [00:20<00:00,  1.50it/s]\n"
     ]
    }
   ],
   "source": [
    "X_train, y_train  = create_noise_rotation_imse(X_train)"
   ]
  },
  {
   "cell_type": "code",
   "execution_count": 14,
   "metadata": {},
   "outputs": [
    {
     "name": "stdout",
     "output_type": "stream",
     "text": [
      " Len of the Train Images =  78690\n",
      " Len of the Train Labels =  78690\n"
     ]
    }
   ],
   "source": [
    "print(\" Len of the Train Images = \", len(X_train))\n",
    "print(\" Len of the Train Labels = \", len(y_train))"
   ]
  },
  {
   "cell_type": "code",
   "execution_count": 15,
   "metadata": {},
   "outputs": [
    {
     "data": {
      "image/png": "[encoded data removed]",
      "text/plain": [
       "<Figure size 432x288 with 1 Axes>"
      ]
     },
     "metadata": {
      "needs_background": "light"
     },
     "output_type": "display_data"
    }
   ],
   "source": [
    "counts, something, bins = plt.hist(y_train, bins = 43)\n",
    "plt.title(\"Friquency\")\n",
    "plt.xlabel('Ckass')\n",
    "plt.ylabel('Number of Samples')\n",
    "plt.show()"
   ]
  },
  {
   "cell_type": "code",
   "execution_count": 17,
   "metadata": {},
   "outputs": [],
   "source": [
    "from sklearn.utils import shuffle\n",
    "\n",
    "X_train, y_train = shuffle(X_train, y_train)\n",
    "X_validation, y_validation = shuffle(X_validation, y_validation)"
   ]
  },
  {
   "cell_type": "code",
   "execution_count": 18,
   "metadata": {},
   "outputs": [
    {
     "name": "stderr",
     "output_type": "stream",
     "text": [
      "100%|██████████| 78690/78690 [00:00<00:00, 96236.01it/s] \n"
     ]
    }
   ],
   "source": [
    "X_train = np.asarray(X_train)\n",
    "for i in tqdm(range(len(X_train))):\n",
    "    X_train[i] = cv2.resize(X_train[i], (30, 30))"
   ]
  },
  {
   "cell_type": "markdown",
   "metadata": {},
   "source": [
    "## Normalization"
   ]
  },
  {
   "cell_type": "code",
   "execution_count": 19,
   "metadata": {},
   "outputs": [],
   "source": [
    "X_train_N = []\n",
    "for i in range(0, len(X_train)):\n",
    "    X_train_N.append(X_train[i])"
   ]
  },
  {
   "cell_type": "code",
   "execution_count": 20,
   "metadata": {},
   "outputs": [],
   "source": [
    "X_train_N = np.asarray(X_train_N)\n",
    "\n",
    "X_train_min = X_train_N.min(axis=(1, 2), keepdims = True)\n",
    "X_train_max = X_train_N.max(axis=(1, 2), keepdims = True)\n",
    "\n",
    "X_train_N = (X_train_N - X_train_min)/(X_train_max - X_train_min)"
   ]
  },
  {
   "cell_type": "code",
   "execution_count": 21,
   "metadata": {},
   "outputs": [
    {
     "name": "stderr",
     "output_type": "stream",
     "text": [
      "100%|██████████| 78690/78690 [00:00<00:00, 273887.28it/s]\n"
     ]
    }
   ],
   "source": [
    "X_train_ravel = []\n",
    "for j in tqdm(range(len(X_train_N))):\n",
    "    X_train_ravel.append(np.ravel(X_train_N[j]))\n",
    "\n",
    "X_train_ravel = np.asarray(X_train_ravel)"
   ]
  },
  {
   "cell_type": "markdown",
   "metadata": {},
   "source": [
    "Validation"
   ]
  },
  {
   "cell_type": "code",
   "execution_count": 22,
   "metadata": {},
   "outputs": [],
   "source": [
    "X_validation = np.asarray(X_validation)\n",
    "\n",
    "X_validation_min = X_validation.min(axis=(1, 2), keepdims = True)\n",
    "X_validation_max = X_validation.max(axis=(1, 2), keepdims = True)\n",
    "\n",
    "X_validation = (X_validation - X_validation_min)/(X_validation_max - X_validation_min)"
   ]
  },
  {
   "cell_type": "code",
   "execution_count": 23,
   "metadata": {},
   "outputs": [
    {
     "name": "stderr",
     "output_type": "stream",
     "text": [
      "100%|██████████| 7230/7230 [00:00<00:00, 194620.66it/s]\n"
     ]
    }
   ],
   "source": [
    "X_validation_ravel = []\n",
    "for j in tqdm(range(len(X_validation))):\n",
    "    X_validation_ravel.append(np.ravel(X_validation[j]))\n",
    "\n",
    "X_validation_ravel = np.asarray(X_validation_ravel)"
   ]
  },
  {
   "cell_type": "markdown",
   "metadata": {},
   "source": [
    "Test"
   ]
  },
  {
   "cell_type": "code",
   "execution_count": 24,
   "metadata": {},
   "outputs": [],
   "source": [
    "Test_Images_N = []\n",
    "for i in range(0, len(Test_Images)):\n",
    "    Test_Images_N.append(Test_Images[i])"
   ]
  },
  {
   "cell_type": "code",
   "execution_count": 25,
   "metadata": {},
   "outputs": [],
   "source": [
    "Test_Images_N = np.asarray(Test_Images_N)\n",
    "\n",
    "Test_Images_min = Test_Images_N.min(axis=(1, 2), keepdims = True)\n",
    "Test_Images_max = Test_Images_N.max(axis=(1, 2), keepdims = True)\n",
    "\n",
    "Test_Images_N = (Test_Images_N  - Test_Images_min )/(Test_Images_max - Test_Images_min )"
   ]
  },
  {
   "cell_type": "code",
   "execution_count": 26,
   "metadata": {},
   "outputs": [
    {
     "name": "stderr",
     "output_type": "stream",
     "text": [
      "100%|██████████| 12630/12630 [00:00<00:00, 193202.01it/s]\n"
     ]
    }
   ],
   "source": [
    "Test_Images_N_ravel = []\n",
    "for j in tqdm(range(len(Test_Images_N))):\n",
    "    Test_Images_N_ravel.append(np.ravel(Test_Images_N[j]))\n",
    "\n",
    "Test_Images_N_ravel = np.asarray(Test_Images_N_ravel)"
   ]
  },
  {
   "cell_type": "markdown",
   "metadata": {},
   "source": [
    "## Training Random Forest"
   ]
  },
  {
   "cell_type": "code",
   "execution_count": 1,
   "metadata": {},
   "outputs": [
    {
     "name": "stdout",
     "output_type": "stream",
     "text": [
      "Fit time: 0:16:37.537528\n"
     ]
    }
   ],
   "source": [
    "from sklearn.ensemble import RandomForestClassifier\n",
    "\n",
    "Model = RandomForestClassifier(n_estimators = 100)\n",
    "\n",
    "startTime = datetime.now()\n",
    "Model.fit(X_train_ravel, y_train)\n",
    "print('Fit Time:  ', datetime.now() - startTime)"
   ]
  },
  {
   "cell_type": "code",
   "execution_count": 4,
   "metadata": {},
   "outputs": [
    {
     "name": "stdout",
     "output_type": "stream",
     "text": [
      "Accuracy test =  0.8715483648592648\n"
     ]
    }
   ],
   "source": [
    "startTime2 = datetime.now()\n",
    "acc = Model.predict(Test_Images_N_ravel)\n",
    "print('Model Time: ', datetime.now() - startTime2)\n",
    "\n",
    "import sklearn.metrics as metrics\n",
    "\n",
    "print(\"Accuracy test = \", metrics.accuracy_score(acc, Test_Labels))"
   ]
  },
  {
   "cell_type": "markdown",
   "metadata": {},
   "source": [
    "## plt"
   ]
  },
  {
   "cell_type": "code",
   "execution_count": 32,
   "metadata": {},
   "outputs": [
    {
     "data": {
      "image/png": "[encoded data removed]",
      "text/plain": [
       "<Figure size 432x288 with 1 Axes>"
      ]
     },
     "metadata": {
      "needs_background": "light"
     },
     "output_type": "display_data"
    }
   ],
   "source": [
    "import matplotlib.pyplot as plt\n",
    "size = [30, 33, 36, 39, 42]\n",
    "accuracy = [82.7, 83.6, 83.9, 84.1, 84.25]\n",
    "\n",
    "plt.plot(size, accuracy)\n",
    "plt.xlabel(\"Size, pixels\")\n",
    "plt.ylabel(\"Accuracy, %\")\n",
    "plt.show()"
   ]
  },
  {
   "cell_type": "code",
   "execution_count": 37,
   "metadata": {},
   "outputs": [
    {
     "data": {
      "image/png": "[encoded data removed]",
      "text/plain": [
       "<Figure size 432x288 with 1 Axes>"
      ]
     },
     "metadata": {
      "needs_background": "light"
     },
     "output_type": "display_data"
    }
   ],
   "source": [
    "Fit_time = [16.37, 16.35, 16.50, 20.16, 20.7]\n",
    "\n",
    "plt.plot(size, Fit_time)\n",
    "plt.xlabel(\"Size, pixels\")\n",
    "plt.ylabel(\"Fitting time, Min\")\n",
    "plt.show()"
   ]
  },
  {
   "cell_type": "markdown",
   "metadata": {},
   "source": [
    "## Finding Recall and Precision for each class"
   ]
  },
  {
   "cell_type": "code",
   "execution_count": null,
   "metadata": {},
   "outputs": [],
   "source": [
    "from sklearn.metrics import classification_report\n",
    "\n",
    "print(classification_report(y_train, y_predict_train))"
   ]
  }
 ],
 "metadata": {
  "kernelspec": {
   "display_name": "Python 3",
   "language": "python",
   "name": "python3"
  },
  "language_info": {
   "codemirror_mode": {
    "name": "ipython",
    "version": 3
   },
   "file_extension": ".py",
   "mimetype": "text/x-python",
   "name": "python",
   "nbconvert_exporter": "python",
   "pygments_lexer": "ipython3",
   "version": "3.7.4"
  }
 },
 "nbformat": 4,
 "nbformat_minor": 2
}
